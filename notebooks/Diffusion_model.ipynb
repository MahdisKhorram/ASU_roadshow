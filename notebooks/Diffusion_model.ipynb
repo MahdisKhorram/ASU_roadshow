{
 "cells": [
  {
   "cell_type": "markdown",
   "id": "74eccf3c-c0ad-46ba-8db4-aba01e0b8b3e",
   "metadata": {},
   "source": [
    "# A 1D diffusion model"
   ]
  },
  {
   "cell_type": "markdown",
   "id": "e13c03f2-32ac-4078-bee8-b9179c0f251b",
   "metadata": {},
   "source": [
    "here we develope a 1-d  model of diffusion.\n",
    "It assume a constant diffusivity. it uses a regular grid. it has a step function for an initial condition. it has fixed boundary conditions."
   ]
  },
  {
   "cell_type": "markdown",
   "id": "3da7d930-5599-4aa6-b9b1-88571265b44b",
   "metadata": {},
   "source": [
    "Here is the diffusion equation:"
   ]
  },
  {
   "cell_type": "markdown",
   "id": "88f52960-f684-4cda-8c9a-be314e7e6720",
   "metadata": {},
   "source": [
    "$$ \\frac{\\partial C}{\\partial t} = D\\frac{\\partial^2 C}{\\partial x^2} $$"
   ]
  },
  {
   "cell_type": "markdown",
   "id": "844bb4e4-8220-4355-afcd-133168429925",
   "metadata": {},
   "source": [
    "here is the discretized version of the diffusion equation we will solve with our model:"
   ]
  },
  {
   "cell_type": "markdown",
   "id": "df4da71f-6716-413b-843f-8d4e9ce3809c",
   "metadata": {},
   "source": [
    "\n",
    "$$ C^{t+1}_x = C^t_x + {D \\Delta t \\over \\Delta x^2} (C^t_{x+1} - 2C^t_x + C^t_{x-1}) $$"
   ]
  },
  {
   "cell_type": "markdown",
   "id": "caf22562-05ff-420b-8723-63a198bf2f80",
   "metadata": {},
   "source": [
    "This the FTCS scheme as described by Slingerland and Kump (2011):"
   ]
  },
  {
   "cell_type": "markdown",
   "id": "acee6cb2-e743-42dc-9201-631b82a22ab4",
   "metadata": {},
   "source": [
    "We will use libraries, Numpy (for arrays) matplotlib for plottng. that are not part of python distribution"
   ]
  },
  {
   "cell_type": "code",
   "execution_count": null,
   "id": "9af46f8b-0ccd-41f6-97ba-0fb3898143c3",
   "metadata": {},
   "outputs": [],
   "source": [
    "import numpy as np\n",
    "import matplotlib.pyplot as plt"
   ]
  },
  {
   "cell_type": "markdown",
   "id": "5920c2c3-01b4-4bc1-825e-f52463e8f838",
   "metadata": {},
   "source": [
    "start by setting two fixed model parameters, the diffusivity and the size of model domain"
   ]
  },
  {
   "cell_type": "code",
   "execution_count": null,
   "id": "5aa4f654-caf5-41fc-9169-3eefc91da3cd",
   "metadata": {},
   "outputs": [],
   "source": [
    "D=100\n",
    "Lx=300"
   ]
  },
  {
   "cell_type": "markdown",
   "id": "171101b3-1db9-4f82-b8b3-d71839b5b142",
   "metadata": {},
   "source": [
    "Next , set up the model grid using a Numpy array"
   ]
  },
  {
   "cell_type": "code",
   "execution_count": null,
   "id": "4ecbda40-317c-4e81-922a-c9e86bcb0e13",
   "metadata": {},
   "outputs": [],
   "source": [
    "dx=0.5\n",
    "x=np.arange(start=0, stop=Lx , step=dx)\n",
    "nx= len(x)"
   ]
  },
  {
   "cell_type": "markdown",
   "id": "715ab28e-0951-49f9-8fc6-bc3a04eb746a",
   "metadata": {},
   "source": [
    "set the initial condition for the model. "
   ]
  },
  {
   "cell_type": "code",
   "execution_count": null,
   "id": "bcaecf57-535e-4a9c-beff-be49c8cb37a0",
   "metadata": {},
   "outputs": [],
   "source": [
    "C=np.zeros_like(x)\n",
    "C_left=500\n",
    "C_right=0\n",
    "C[x<=Lx/2]=C_left\n",
    "C[x>Lx/2]=C_right"
   ]
  },
  {
   "cell_type": "markdown",
   "id": "d68d100e-01fc-4661-9ca1-de202780bb66",
   "metadata": {},
   "source": [
    "Plot the initial profile"
   ]
  },
  {
   "cell_type": "code",
   "execution_count": null,
   "id": "3b30e01c-24c2-44dd-b479-73a432e24a07",
   "metadata": {},
   "outputs": [],
   "source": [
    "plt.figure()\n",
    "plt.plot(x, C, \"r\")\n",
    "plt.xlabel(\"x\")\n",
    "plt.ylabel(\"C\")\n",
    "plt.title(\"initial profile\")"
   ]
  },
  {
   "cell_type": "markdown",
   "id": "32a79025-bf37-4be1-9892-d624b0f076b5",
   "metadata": {},
   "source": [
    "Set time steps"
   ]
  },
  {
   "cell_type": "code",
   "execution_count": null,
   "id": "c5d4eb63-2aae-4f96-873e-c16e2ba84dbf",
   "metadata": {},
   "outputs": [],
   "source": [
    "nt=5000\n",
    "dt=0.5*dx**2/D"
   ]
  },
  {
   "cell_type": "markdown",
   "id": "6d0e9a26-72f8-424e-ab4a-1ad44dd566cf",
   "metadata": {},
   "source": [
    "loop over the time step of model, sove the equation using FTCS"
   ]
  },
  {
   "cell_type": "code",
   "execution_count": null,
   "id": "2f807cf5-ba11-44c3-903b-0cfc2e1c2078",
   "metadata": {},
   "outputs": [],
   "source": [
    "for t in range(0, nt):\n",
    "    C[1:-1] += D*dt/dx**2* (C[:-2] -2*C[1:-1] + C[2:])"
   ]
  },
  {
   "cell_type": "markdown",
   "id": "dfbd7cfe-f8c0-4c7e-9243-0fa3f8db08e5",
   "metadata": {},
   "source": [
    "plot the result"
   ]
  },
  {
   "cell_type": "code",
   "execution_count": null,
   "id": "1768f207-49fc-4b39-a5df-8143e500f4e0",
   "metadata": {},
   "outputs": [],
   "source": [
    "plt.plot(x, C, \"b\")\n",
    "plt.xlabel(\"x\")\n",
    "plt.ylabel(\"C\")\n",
    "plt.title(\"final profile\")"
   ]
  },
  {
   "cell_type": "code",
   "execution_count": null,
   "id": "2729c2d8-45f6-4898-8b19-006731feb209",
   "metadata": {},
   "outputs": [],
   "source": []
  }
 ],
 "metadata": {
  "kernelspec": {
   "display_name": "Ivy",
   "language": "python",
   "name": "ivy"
  },
  "language_info": {
   "codemirror_mode": {
    "name": "ipython",
    "version": 3
   },
   "file_extension": ".py",
   "mimetype": "text/x-python",
   "name": "python",
   "nbconvert_exporter": "python",
   "pygments_lexer": "ipython3",
   "version": "3.13.3"
  }
 },
 "nbformat": 4,
 "nbformat_minor": 5
}
